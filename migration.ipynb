{
 "cells": [
  {
   "cell_type": "code",
   "execution_count": 3,
   "metadata": {},
   "outputs": [
    {
     "name": "stdout",
     "output_type": "stream",
     "text": [
      "{\n",
      "    \"error\": {\n",
      "        \"message\": \"Token is invalid or not supported for this endpoint.\"\n",
      "    },\n",
      "    \"type\": \"error\"\n",
      "}\n"
     ]
    }
   ],
   "source": [
    "\n",
    "# This code sample uses the 'requests' library:\n",
    "# http://docs.python-requests.org\n",
    "import requests\n",
    "import json\n",
    "\n",
    "url = \"https://api.bitbucket.org/2.0/repositories/{workspace}\"\n",
    "\n",
    "headers = {\n",
    "  \"Accept\": \"application/json\",\n",
    "  \"Authorization\": \"Bearer <access_token>\"\n",
    "}\n",
    "\n",
    "response = requests.request(\n",
    "   \"GET\",\n",
    "   url,\n",
    "   headers=headers\n",
    ")\n",
    "\n",
    "print(json.dumps(json.loads(response.text), sort_keys=True, indent=4, separators=(\",\", \": \")))"
   ]
  }
 ],
 "metadata": {
  "kernelspec": {
   "display_name": ".venv",
   "language": "python",
   "name": "python3"
  },
  "language_info": {
   "codemirror_mode": {
    "name": "ipython",
    "version": 3
   },
   "file_extension": ".py",
   "mimetype": "text/x-python",
   "name": "python",
   "nbconvert_exporter": "python",
   "pygments_lexer": "ipython3",
   "version": "3.10.10"
  },
  "orig_nbformat": 4
 },
 "nbformat": 4,
 "nbformat_minor": 2
}
